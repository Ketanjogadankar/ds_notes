{
 "cells": [
  {
   "cell_type": "markdown",
   "metadata": {},
   "source": [
    "# Regulaization Techniques"
   ]
  },
  {
   "cell_type": "markdown",
   "metadata": {},
   "source": [
    "###  Why We need regulaization?\n",
    "\n",
    "Main reason we need regulazation is to **avoid model to overfit** on training dataset, so that it can be better as generalization. \n",
    "\n",
    "### How regularization helps prevent from overfitting?\n",
    "\n",
    "Here we add penalty term or regularization term into the cost function to avoid loss getting reduced to 0.\n",
    "\n"
   ]
  },
  {
   "cell_type": "markdown",
   "metadata": {},
   "source": [
    "## Weight vector\n",
    "\n",
    "Lets say there 3 features at the input. So the equation of line becomes.\n",
    "$$\n",
    "y = w_1 * x_1 + w_2 * x_2 + w_3 * x_3 + b\n",
    "$$\n",
    "\n",
    "where $x_1,x_2,x_3$ are the 3 different features at the input and $w_1,w_2,w_3$ are their weights.\n",
    "$$\n",
    "weight\\_vector = [w_1,w_2,w_3]\n",
    "$$\n",
    "\n",
    "## L1 Regularization\n",
    "\n",
    "Here we take sum of the absolute values of weight vector and add it into cost function along with regulaization parameter $\\lambda$. <br>\n",
    "It is used in Lasso Regression.<br>\n",
    "It also serves purpose of feature selection<br>\n",
    "\n",
    "$$\n",
    "cost\\_function = MSE + \\lambda*|w|_{1}\n",
    "$$\n",
    "where $|w|_1 = \\sum{abs(w_1),abs(w_2),abs(w_3),..}$\n",
    "\n",
    "## L2 Regularization\n",
    "\n",
    "Here we take sum of the squared values of weight vector and add it into cost function along with regulaization parameter $\\lambda$<br>\n",
    "It is used in Ridge regression.<br>\n",
    "\n",
    "$$\n",
    "cost\\_function = MSE + \\lambda*|w|_{2}^2\n",
    "$$\n",
    "where $|w|_2^2 = \\sum{w_1^2,w_2^2,w_3^2,..}$\n"
   ]
  },
  {
   "cell_type": "markdown",
   "metadata": {},
   "source": []
  }
 ],
 "metadata": {
  "language_info": {
   "name": "python"
  }
 },
 "nbformat": 4,
 "nbformat_minor": 2
}
