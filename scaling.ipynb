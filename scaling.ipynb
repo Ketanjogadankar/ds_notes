{
 "cells": [
  {
   "cell_type": "markdown",
   "metadata": {},
   "source": [
    "**Feature scaling** is one of the most important data pre-processing step in machine learning. Algorithms that compute the distance between the features are biased towards numerically larger values if the data is not scaled.\n",
    "<mark>Tree-based algorithms are fairly insensitive to the scale of the features.</mark> Also, feature scaling helps machine learning, and deep learning algorithms train and converge faster.\n",
    "There are some feature scaling techniques such as Normalization and Standardization that are the most popular and at the same time, the most confusing ones."
   ]
  },
  {
   "cell_type": "markdown",
   "metadata": {},
   "source": [
    "## Normalization or Min-Max Scaling \n",
    "It is used to transform features to be on a similar scale. The new point is calculated as:\n",
    "\n",
    "        X_new = (X - X_min)/(X_max - X_min)\n",
    "\t\t\t\n",
    "This scales the range to [0, 1] or sometimes [-1, 1]. Geometrically speaking, transformation squishes the n-dimensional data into an n-dimensional unit hypercube. <mark>Normalization is useful when there are no outliers as it cannot cope up with them.</mark> Usually, we would scale age and not incomes because only a few people have high incomes but the age is close to uniform."
   ]
  },
  {
   "cell_type": "markdown",
   "metadata": {},
   "source": [
    "## Standardization or Z-Score Normalization\n",
    "It is the transformation of features by subtracting from mean and dividing by standard deviation. This is often called as Z-score.\n",
    "\t\t\t\n",
    "            X_new = (X - mean)/Std\n",
    "\t\t\t\n",
    "Standardization can be helpful in cases where the data follows a Gaussian distribution. However, this does not have to be necessarily true. Geometrically speaking, it translates the data to the mean vector of original data to the origin and squishes or expands the points if std is 1 respectively. We can see that we are just changing mean and standard deviation to a standard normal distribution which is still normal thus the shape of the distribution is not affected.<br>\n",
    "**Standardization does not get affected by outliers because there is no predefined range of transformed features.**\n"
   ]
  },
  {
   "cell_type": "markdown",
   "metadata": {},
   "source": [
    "## Difference between Normalization and Standardization\n",
    "\n",
    "| Sr. No. | Normalization | Standardization |\n",
    "| :-: | :- | :- |\n",
    "|1.| Minimum and maximum value of features are used for scaling | Mean and standard deviation is used for scaling.|\n",
    "|2.| It is used when features are of different scales. | It is used when we want to ensure zero mean and unit standard deviation. |\n",
    "|3.| Scales values between [0, 1] or [-1, 1]. | It is not bounded to a certain range. |\n",
    "|4.| It is really affected by outliers. | It is much less affected by outliers. |\n",
    "|5.| Scikit-Learn provides a transformer called MinMaxScaler for Normalization. | Scikit-Learn provides a transformer called StandardScaler for standardization. |\n",
    "|6.| This transformation squishes the n-dimensional data into an n-dimensional unit hypercube. | It translates the data to the mean vector of original data to the origin and squishes or expands. |\n",
    "|7.| It is useful when we don’t know about the distribution | It is useful when the feature distribution is Normal or Gaussian.|\n",
    "|8.| It is a often called as Scaling Normalization | It is a often called as Z-Score Normalization. |"
   ]
  },
  {
   "cell_type": "markdown",
   "metadata": {},
   "source": []
  }
 ],
 "metadata": {
  "language_info": {
   "name": "python"
  },
  "orig_nbformat": 4
 },
 "nbformat": 4,
 "nbformat_minor": 2
}
